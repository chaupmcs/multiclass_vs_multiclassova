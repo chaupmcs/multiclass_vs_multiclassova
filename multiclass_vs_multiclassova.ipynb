{
 "cells": [
  {
   "cell_type": "code",
   "execution_count": null,
   "metadata": {},
   "outputs": [],
   "source": [
    "import pandas as pd\n",
    "import numpy as np\n",
    "import matplotlib.pyplot as plt\n",
    "import seaborn as sns\n",
    "%matplotlib inline\n",
    "from collections import Counter\n",
    "from sklearn.metrics import accuracy_score\n",
    "\n",
    "import pickle\n",
    "from collections import Counter\n",
    "from sklearn.ensemble import RandomForestClassifier, AdaBoostClassifier, GradientBoostingClassifier, ExtraTreesClassifier, VotingClassifier\n",
    "from sklearn.discriminant_analysis import LinearDiscriminantAnalysis\n",
    "from sklearn.linear_model import LogisticRegression\n",
    "from sklearn.neighbors import KNeighborsClassifier\n",
    "from sklearn.tree import DecisionTreeClassifier\n",
    "from sklearn.neural_network import MLPClassifier\n",
    "from sklearn.svm import SVC\n",
    "from sklearn.model_selection import GridSearchCV, cross_val_score, StratifiedKFold, learning_curve\n",
    "import os\n",
    "os.environ['KMP_DUPLICATE_LIB_OK']='True'  # fix error on MAC_OS when using light gbm, xgboost\n",
    "from sklearn.metrics import mean_squared_error\n",
    "\n",
    "import lightgbm\n",
    "sns.set(style='white', context='notebook', palette='deep')\n",
    "\n",
    "\n",
    "## read input\n",
    "\n",
    "with open('./data/X.pickle', 'rb') as handle:\n",
    "    X = pickle.load(handle)\n",
    "    \n",
    "with open('./data/y.pickle', 'rb') as handle:\n",
    "    y = pickle.load(handle)"
   ]
  },
  {
   "cell_type": "code",
   "execution_count": 2,
   "metadata": {},
   "outputs": [
    {
     "data": {
      "text/html": [
       "<div>\n",
       "<style scoped>\n",
       "    .dataframe tbody tr th:only-of-type {\n",
       "        vertical-align: middle;\n",
       "    }\n",
       "\n",
       "    .dataframe tbody tr th {\n",
       "        vertical-align: top;\n",
       "    }\n",
       "\n",
       "    .dataframe thead th {\n",
       "        text-align: right;\n",
       "    }\n",
       "</style>\n",
       "<table border=\"1\" class=\"dataframe\">\n",
       "  <thead>\n",
       "    <tr style=\"text-align: right;\">\n",
       "      <th></th>\n",
       "      <th>Age</th>\n",
       "      <th>Fare</th>\n",
       "      <th>Parch</th>\n",
       "      <th>Sex</th>\n",
       "      <th>SibSp</th>\n",
       "      <th>Fsize</th>\n",
       "      <th>Single</th>\n",
       "      <th>SmallF</th>\n",
       "      <th>MedF</th>\n",
       "      <th>LargeF</th>\n",
       "      <th>...</th>\n",
       "      <th>T_STONO</th>\n",
       "      <th>T_STONO2</th>\n",
       "      <th>T_STONOQ</th>\n",
       "      <th>T_SWPP</th>\n",
       "      <th>T_WC</th>\n",
       "      <th>T_WEP</th>\n",
       "      <th>T_X</th>\n",
       "      <th>Pc_1</th>\n",
       "      <th>Pc_2</th>\n",
       "      <th>Pc_3</th>\n",
       "    </tr>\n",
       "  </thead>\n",
       "  <tbody>\n",
       "    <tr>\n",
       "      <th>0</th>\n",
       "      <td>22.0</td>\n",
       "      <td>1.981001</td>\n",
       "      <td>0</td>\n",
       "      <td>0</td>\n",
       "      <td>1</td>\n",
       "      <td>2</td>\n",
       "      <td>0</td>\n",
       "      <td>1</td>\n",
       "      <td>0</td>\n",
       "      <td>0</td>\n",
       "      <td>...</td>\n",
       "      <td>0</td>\n",
       "      <td>0</td>\n",
       "      <td>0</td>\n",
       "      <td>0</td>\n",
       "      <td>0</td>\n",
       "      <td>0</td>\n",
       "      <td>0</td>\n",
       "      <td>0</td>\n",
       "      <td>0</td>\n",
       "      <td>1</td>\n",
       "    </tr>\n",
       "    <tr>\n",
       "      <th>1</th>\n",
       "      <td>38.0</td>\n",
       "      <td>4.266662</td>\n",
       "      <td>0</td>\n",
       "      <td>1</td>\n",
       "      <td>1</td>\n",
       "      <td>2</td>\n",
       "      <td>0</td>\n",
       "      <td>1</td>\n",
       "      <td>0</td>\n",
       "      <td>0</td>\n",
       "      <td>...</td>\n",
       "      <td>0</td>\n",
       "      <td>0</td>\n",
       "      <td>0</td>\n",
       "      <td>0</td>\n",
       "      <td>0</td>\n",
       "      <td>0</td>\n",
       "      <td>0</td>\n",
       "      <td>1</td>\n",
       "      <td>0</td>\n",
       "      <td>0</td>\n",
       "    </tr>\n",
       "    <tr>\n",
       "      <th>2</th>\n",
       "      <td>26.0</td>\n",
       "      <td>2.070022</td>\n",
       "      <td>0</td>\n",
       "      <td>1</td>\n",
       "      <td>0</td>\n",
       "      <td>1</td>\n",
       "      <td>1</td>\n",
       "      <td>0</td>\n",
       "      <td>0</td>\n",
       "      <td>0</td>\n",
       "      <td>...</td>\n",
       "      <td>0</td>\n",
       "      <td>1</td>\n",
       "      <td>0</td>\n",
       "      <td>0</td>\n",
       "      <td>0</td>\n",
       "      <td>0</td>\n",
       "      <td>0</td>\n",
       "      <td>0</td>\n",
       "      <td>0</td>\n",
       "      <td>1</td>\n",
       "    </tr>\n",
       "    <tr>\n",
       "      <th>3</th>\n",
       "      <td>35.0</td>\n",
       "      <td>3.972177</td>\n",
       "      <td>0</td>\n",
       "      <td>1</td>\n",
       "      <td>1</td>\n",
       "      <td>2</td>\n",
       "      <td>0</td>\n",
       "      <td>1</td>\n",
       "      <td>0</td>\n",
       "      <td>0</td>\n",
       "      <td>...</td>\n",
       "      <td>0</td>\n",
       "      <td>0</td>\n",
       "      <td>0</td>\n",
       "      <td>0</td>\n",
       "      <td>0</td>\n",
       "      <td>0</td>\n",
       "      <td>1</td>\n",
       "      <td>1</td>\n",
       "      <td>0</td>\n",
       "      <td>0</td>\n",
       "    </tr>\n",
       "    <tr>\n",
       "      <th>4</th>\n",
       "      <td>35.0</td>\n",
       "      <td>2.085672</td>\n",
       "      <td>0</td>\n",
       "      <td>0</td>\n",
       "      <td>0</td>\n",
       "      <td>1</td>\n",
       "      <td>1</td>\n",
       "      <td>0</td>\n",
       "      <td>0</td>\n",
       "      <td>0</td>\n",
       "      <td>...</td>\n",
       "      <td>0</td>\n",
       "      <td>0</td>\n",
       "      <td>0</td>\n",
       "      <td>0</td>\n",
       "      <td>0</td>\n",
       "      <td>0</td>\n",
       "      <td>1</td>\n",
       "      <td>0</td>\n",
       "      <td>0</td>\n",
       "      <td>1</td>\n",
       "    </tr>\n",
       "  </tbody>\n",
       "</table>\n",
       "<p>5 rows × 66 columns</p>\n",
       "</div>"
      ],
      "text/plain": [
       "    Age      Fare  Parch  Sex  SibSp  Fsize  Single  SmallF  MedF  LargeF  \\\n",
       "0  22.0  1.981001      0    0      1      2       0       1     0       0   \n",
       "1  38.0  4.266662      0    1      1      2       0       1     0       0   \n",
       "2  26.0  2.070022      0    1      0      1       1       0     0       0   \n",
       "3  35.0  3.972177      0    1      1      2       0       1     0       0   \n",
       "4  35.0  2.085672      0    0      0      1       1       0     0       0   \n",
       "\n",
       "   ...   T_STONO  T_STONO2  T_STONOQ  T_SWPP  T_WC  T_WEP  T_X  Pc_1  Pc_2  \\\n",
       "0  ...         0         0         0       0     0      0    0     0     0   \n",
       "1  ...         0         0         0       0     0      0    0     1     0   \n",
       "2  ...         0         1         0       0     0      0    0     0     0   \n",
       "3  ...         0         0         0       0     0      0    1     1     0   \n",
       "4  ...         0         0         0       0     0      0    1     0     0   \n",
       "\n",
       "   Pc_3  \n",
       "0     1  \n",
       "1     0  \n",
       "2     1  \n",
       "3     0  \n",
       "4     1  \n",
       "\n",
       "[5 rows x 66 columns]"
      ]
     },
     "execution_count": 2,
     "metadata": {},
     "output_type": "execute_result"
    }
   ],
   "source": [
    "X.head()"
   ]
  },
  {
   "cell_type": "code",
   "execution_count": 3,
   "metadata": {},
   "outputs": [
    {
     "name": "stdout",
     "output_type": "stream",
     "text": [
      "Counter({0: 413, 1: 268, 2: 200})\n"
     ]
    },
    {
     "data": {
      "text/plain": [
       "0    2\n",
       "1    2\n",
       "2    1\n",
       "3    1\n",
       "4    0\n",
       "Name: value, dtype: int64"
      ]
     },
     "execution_count": 3,
     "metadata": {},
     "output_type": "execute_result"
    }
   ],
   "source": [
    "print(Counter(y))\n",
    "y[:5]"
   ]
  },
  {
   "cell_type": "code",
   "execution_count": null,
   "metadata": {},
   "outputs": [],
   "source": []
  },
  {
   "cell_type": "markdown",
   "metadata": {},
   "source": [
    "## 1. objective=\"multiclass\""
   ]
  },
  {
   "cell_type": "code",
   "execution_count": 4,
   "metadata": {},
   "outputs": [
    {
     "name": "stdout",
     "output_type": "stream",
     "text": [
      "[1]\ttrain's multi_error: 0.38933\n"
     ]
    },
    {
     "data": {
      "text/plain": [
       "LGBMClassifier(boosting_type='gbdt', class_weight=None, colsample_bytree=1.0,\n",
       "        importance_type='split', learning_rate=1, max_depth=1,\n",
       "        metric='multi_error', min_child_samples=1, min_child_weight=0,\n",
       "        min_split_gain=0.0, n_estimators=1, n_jobs=-1, num_class=3,\n",
       "        num_leaves=31, objective='multiclass', random_state=1,\n",
       "        reg_alpha=0.0, reg_lambda=0.0, silent=True, subsample=1.0,\n",
       "        subsample_for_bin=200000, subsample_freq=0)"
      ]
     },
     "execution_count": 4,
     "metadata": {},
     "output_type": "execute_result"
    }
   ],
   "source": [
    "\n",
    "num_trees = 1\n",
    "max_depth_tree  = 1\n",
    "\n",
    "multiclass_model = lightgbm.LGBMClassifier(boosting_type='gbdt', class_weight=None, colsample_bytree=1.0,\n",
    "        importance_type='split', learning_rate=1, max_depth=max_depth_tree,\n",
    "        min_child_samples=1, min_child_weight=0, min_split_gain=0.0,\n",
    "        n_estimators=num_trees, n_jobs=-1, num_leaves=31, metric= \"multi_error\" ,objective=\"multiclass\",num_class =3,\n",
    "        random_state=1, reg_alpha=0.0, reg_lambda=0.0, silent=True,\n",
    "        subsample=1.0, subsample_for_bin=200000, subsample_freq=0)\n",
    "\n",
    "multiclass_model.fit(X, y, verbose=1, eval_set=  [(X, y)], eval_names= ['train'])"
   ]
  },
  {
   "cell_type": "code",
   "execution_count": 5,
   "metadata": {},
   "outputs": [
    {
     "data": {
      "image/svg+xml": [
       "<?xml version=\"1.0\" encoding=\"UTF-8\" standalone=\"no\"?>\n",
       "<!DOCTYPE svg PUBLIC \"-//W3C//DTD SVG 1.1//EN\"\n",
       " \"http://www.w3.org/Graphics/SVG/1.1/DTD/svg11.dtd\">\n",
       "<!-- Generated by graphviz version 2.40.1 (20161225.0304)\n",
       " -->\n",
       "<!-- Title: %3 Pages: 1 -->\n",
       "<svg width=\"606pt\" height=\"239pt\"\n",
       " viewBox=\"0.00 0.00 606.41 239.02\" xmlns=\"http://www.w3.org/2000/svg\" xmlns:xlink=\"http://www.w3.org/1999/xlink\">\n",
       "<g id=\"graph0\" class=\"graph\" transform=\"scale(1 1) rotate(0) translate(4 235.0193)\">\n",
       "<title>%3</title>\n",
       "<polygon fill=\"#ffffff\" stroke=\"transparent\" points=\"-4,4 -4,-235.0193 602.4068,-235.0193 602.4068,4 -4,4\"/>\n",
       "<!-- split0 -->\n",
       "<g id=\"node1\" class=\"node\">\n",
       "<title>split0</title>\n",
       "<ellipse fill=\"none\" stroke=\"#000000\" cx=\"301.6783\" cy=\"-175.865\" rx=\"157.6846\" ry=\"55.3091\"/>\n",
       "<text text-anchor=\"middle\" x=\"301.6783\" y=\"-199.665\" font-family=\"Times,serif\" font-size=\"14.00\" fill=\"#000000\">split_feature_name: Title_2</text>\n",
       "<text text-anchor=\"middle\" x=\"301.6783\" y=\"-185.665\" font-family=\"Times,serif\" font-size=\"14.00\" fill=\"#000000\">threshold: 1.0000000180025095e&#45;35</text>\n",
       "<text text-anchor=\"middle\" x=\"301.6783\" y=\"-171.665\" font-family=\"Times,serif\" font-size=\"14.00\" fill=\"#000000\">split_gain: 93.41729736328125</text>\n",
       "<text text-anchor=\"middle\" x=\"301.6783\" y=\"-157.665\" font-family=\"Times,serif\" font-size=\"14.00\" fill=\"#000000\">internal_value: 0</text>\n",
       "<text text-anchor=\"middle\" x=\"301.6783\" y=\"-143.665\" font-family=\"Times,serif\" font-size=\"14.00\" fill=\"#000000\">internal_count: 881</text>\n",
       "</g>\n",
       "<!-- leaf0 -->\n",
       "<g id=\"node2\" class=\"node\">\n",
       "<title>leaf0</title>\n",
       "<ellipse fill=\"none\" stroke=\"#000000\" cx=\"147.6783\" cy=\"-35.3553\" rx=\"147.8568\" ry=\"35.2113\"/>\n",
       "<text text-anchor=\"middle\" x=\"147.6783\" y=\"-45.1553\" font-family=\"Times,serif\" font-size=\"14.00\" fill=\"#000000\">leaf_index: 0</text>\n",
       "<text text-anchor=\"middle\" x=\"147.6783\" y=\"-31.1553\" font-family=\"Times,serif\" font-size=\"14.00\" fill=\"#000000\">leaf_value: &#45;0.5991574688439266</text>\n",
       "<text text-anchor=\"middle\" x=\"147.6783\" y=\"-17.1553\" font-family=\"Times,serif\" font-size=\"14.00\" fill=\"#000000\">leaf_count: 368</text>\n",
       "</g>\n",
       "<!-- split0&#45;&gt;leaf0 -->\n",
       "<g id=\"edge1\" class=\"edge\">\n",
       "<title>split0&#45;&gt;leaf0</title>\n",
       "<path fill=\"none\" stroke=\"#000000\" d=\"M245.2088,-124.3422C228.0939,-108.7266 209.5191,-91.779 193.2167,-76.9046\"/>\n",
       "<polygon fill=\"#000000\" stroke=\"#000000\" points=\"195.1588,-73.9387 185.4125,-69.7841 190.4407,-79.1097 195.1588,-73.9387\"/>\n",
       "<text text-anchor=\"middle\" x=\"228.5738\" y=\"-91.5107\" font-family=\"Times,serif\" font-size=\"14.00\" fill=\"#000000\">&lt;=</text>\n",
       "</g>\n",
       "<!-- leaf1 -->\n",
       "<g id=\"node3\" class=\"node\">\n",
       "<title>leaf1</title>\n",
       "<ellipse fill=\"none\" stroke=\"#000000\" cx=\"455.6783\" cy=\"-35.3553\" rx=\"142.9574\" ry=\"35.2113\"/>\n",
       "<text text-anchor=\"middle\" x=\"455.6783\" y=\"-45.1553\" font-family=\"Times,serif\" font-size=\"14.00\" fill=\"#000000\">leaf_index: 1</text>\n",
       "<text text-anchor=\"middle\" x=\"455.6783\" y=\"-31.1553\" font-family=\"Times,serif\" font-size=\"14.00\" fill=\"#000000\">leaf_value: &#45;1.613961591052633</text>\n",
       "<text text-anchor=\"middle\" x=\"455.6783\" y=\"-17.1553\" font-family=\"Times,serif\" font-size=\"14.00\" fill=\"#000000\">leaf_count: 513</text>\n",
       "</g>\n",
       "<!-- split0&#45;&gt;leaf1 -->\n",
       "<g id=\"edge2\" class=\"edge\">\n",
       "<title>split0&#45;&gt;leaf1</title>\n",
       "<path fill=\"none\" stroke=\"#000000\" d=\"M358.1477,-124.3422C375.2627,-108.7266 393.8374,-91.779 410.1399,-76.9046\"/>\n",
       "<polygon fill=\"#000000\" stroke=\"#000000\" points=\"412.9158,-79.1097 417.944,-69.7841 408.1978,-73.9387 412.9158,-79.1097\"/>\n",
       "<text text-anchor=\"middle\" x=\"401.626\" y=\"-91.5107\" font-family=\"Times,serif\" font-size=\"14.00\" fill=\"#000000\">&gt;</text>\n",
       "</g>\n",
       "</g>\n",
       "</svg>\n"
      ],
      "text/plain": [
       "<graphviz.dot.Digraph at 0x1a21fc6c18>"
      ]
     },
     "execution_count": 5,
     "metadata": {},
     "output_type": "execute_result"
    }
   ],
   "source": [
    "lightgbm.create_tree_digraph(multiclass_model, tree_index=1, show_info=[\"split_gain\",\n",
    "                                                  \"internal_value\", \"internal_count\", \"leaf_count\"])"
   ]
  },
  {
   "cell_type": "code",
   "execution_count": null,
   "metadata": {},
   "outputs": [],
   "source": []
  },
  {
   "cell_type": "markdown",
   "metadata": {},
   "source": [
    "## 2. objective=\"multiclassova\""
   ]
  },
  {
   "cell_type": "code",
   "execution_count": 6,
   "metadata": {},
   "outputs": [
    {
     "name": "stdout",
     "output_type": "stream",
     "text": [
      "[1]\ttrain's multi_error: 0.38933\n"
     ]
    },
    {
     "data": {
      "text/plain": [
       "LGBMClassifier(boosting_type='gbdt', class_weight=None, colsample_bytree=1.0,\n",
       "        importance_type='split', learning_rate=1, max_depth=1,\n",
       "        metric='multi_error', min_child_samples=1, min_child_weight=0,\n",
       "        min_split_gain=0.0, n_estimators=1, n_jobs=-1, num_class=3,\n",
       "        num_leaves=31, objective='multiclassova', random_state=1,\n",
       "        reg_alpha=0.0, reg_lambda=0.0, silent=True, subsample=1.0,\n",
       "        subsample_for_bin=200000, subsample_freq=0)"
      ]
     },
     "execution_count": 6,
     "metadata": {},
     "output_type": "execute_result"
    }
   ],
   "source": [
    "mutilclassova_model = lightgbm.LGBMClassifier(boosting_type='gbdt', class_weight=None, colsample_bytree=1.0,\n",
    "        importance_type='split', learning_rate=1, max_depth=max_depth_tree,\n",
    "        min_child_samples=1, min_child_weight=0, min_split_gain=0.0,\n",
    "        n_estimators=num_trees, n_jobs=-1, num_leaves=31, metric= \"multi_error\" ,objective=\"multiclassova\",num_class =3,\n",
    "        random_state=1, reg_alpha=0.0, reg_lambda=0.0, silent=True,\n",
    "        subsample=1.0, subsample_for_bin=200000, subsample_freq=0)\n",
    "\n",
    "mutilclassova_model.fit(X, y, verbose=1, eval_set=  [(X, y)], eval_names= ['train'])\n"
   ]
  },
  {
   "cell_type": "code",
   "execution_count": 7,
   "metadata": {},
   "outputs": [
    {
     "data": {
      "image/svg+xml": [
       "<?xml version=\"1.0\" encoding=\"UTF-8\" standalone=\"no\"?>\n",
       "<!DOCTYPE svg PUBLIC \"-//W3C//DTD SVG 1.1//EN\"\n",
       " \"http://www.w3.org/Graphics/SVG/1.1/DTD/svg11.dtd\">\n",
       "<!-- Generated by graphviz version 2.40.1 (20161225.0304)\n",
       " -->\n",
       "<!-- Title: %3 Pages: 1 -->\n",
       "<svg width=\"620pt\" height=\"239pt\"\n",
       " viewBox=\"0.00 0.00 620.01 239.02\" xmlns=\"http://www.w3.org/2000/svg\" xmlns:xlink=\"http://www.w3.org/1999/xlink\">\n",
       "<g id=\"graph0\" class=\"graph\" transform=\"scale(1 1) rotate(0) translate(4 235.0193)\">\n",
       "<title>%3</title>\n",
       "<polygon fill=\"#ffffff\" stroke=\"transparent\" points=\"-4,4 -4,-235.0193 616.0097,-235.0193 616.0097,4 -4,4\"/>\n",
       "<!-- split0 -->\n",
       "<g id=\"node1\" class=\"node\">\n",
       "<title>split0</title>\n",
       "<ellipse fill=\"none\" stroke=\"#000000\" cx=\"306.3314\" cy=\"-175.865\" rx=\"157.6846\" ry=\"55.3091\"/>\n",
       "<text text-anchor=\"middle\" x=\"306.3314\" y=\"-199.665\" font-family=\"Times,serif\" font-size=\"14.00\" fill=\"#000000\">split_feature_name: Title_2</text>\n",
       "<text text-anchor=\"middle\" x=\"306.3314\" y=\"-185.665\" font-family=\"Times,serif\" font-size=\"14.00\" fill=\"#000000\">threshold: 1.0000000180025095e&#45;35</text>\n",
       "<text text-anchor=\"middle\" x=\"306.3314\" y=\"-171.665\" font-family=\"Times,serif\" font-size=\"14.00\" fill=\"#000000\">split_gain: 186.8350067138672</text>\n",
       "<text text-anchor=\"middle\" x=\"306.3314\" y=\"-157.665\" font-family=\"Times,serif\" font-size=\"14.00\" fill=\"#000000\">internal_value: 0</text>\n",
       "<text text-anchor=\"middle\" x=\"306.3314\" y=\"-143.665\" font-family=\"Times,serif\" font-size=\"14.00\" fill=\"#000000\">internal_count: 881</text>\n",
       "</g>\n",
       "<!-- leaf0 -->\n",
       "<g id=\"node2\" class=\"node\">\n",
       "<title>leaf0</title>\n",
       "<ellipse fill=\"none\" stroke=\"#000000\" cx=\"149.3314\" cy=\"-35.3553\" rx=\"149.163\" ry=\"35.2113\"/>\n",
       "<text text-anchor=\"middle\" x=\"149.3314\" y=\"-45.1553\" font-family=\"Times,serif\" font-size=\"14.00\" fill=\"#000000\">leaf_index: 0</text>\n",
       "<text text-anchor=\"middle\" x=\"149.3314\" y=\"-31.1553\" font-family=\"Times,serif\" font-size=\"14.00\" fill=\"#000000\">leaf_value: 0.35444839773743786</text>\n",
       "<text text-anchor=\"middle\" x=\"149.3314\" y=\"-17.1553\" font-family=\"Times,serif\" font-size=\"14.00\" fill=\"#000000\">leaf_count: 368</text>\n",
       "</g>\n",
       "<!-- split0&#45;&gt;leaf0 -->\n",
       "<g id=\"edge1\" class=\"edge\">\n",
       "<title>split0&#45;&gt;leaf0</title>\n",
       "<path fill=\"none\" stroke=\"#000000\" d=\"M248.7619,-124.3422C231.155,-108.5846 212.0325,-91.4707 195.3042,-76.4994\"/>\n",
       "<polygon fill=\"#000000\" stroke=\"#000000\" points=\"197.5865,-73.845 187.8007,-69.7841 192.9182,-79.0611 197.5865,-73.845\"/>\n",
       "<text text-anchor=\"middle\" x=\"231.2269\" y=\"-91.5107\" font-family=\"Times,serif\" font-size=\"14.00\" fill=\"#000000\">&lt;=</text>\n",
       "</g>\n",
       "<!-- leaf1 -->\n",
       "<g id=\"node3\" class=\"node\">\n",
       "<title>leaf1</title>\n",
       "<ellipse fill=\"none\" stroke=\"#000000\" cx=\"464.3314\" cy=\"-35.3553\" rx=\"147.8568\" ry=\"35.2113\"/>\n",
       "<text text-anchor=\"middle\" x=\"464.3314\" y=\"-45.1553\" font-family=\"Times,serif\" font-size=\"14.00\" fill=\"#000000\">leaf_index: 1</text>\n",
       "<text text-anchor=\"middle\" x=\"464.3314\" y=\"-31.1553\" font-family=\"Times,serif\" font-size=\"14.00\" fill=\"#000000\">leaf_value: &#45;1.6751598466799749</text>\n",
       "<text text-anchor=\"middle\" x=\"464.3314\" y=\"-17.1553\" font-family=\"Times,serif\" font-size=\"14.00\" fill=\"#000000\">leaf_count: 513</text>\n",
       "</g>\n",
       "<!-- split0&#45;&gt;leaf1 -->\n",
       "<g id=\"edge2\" class=\"edge\">\n",
       "<title>split0&#45;&gt;leaf1</title>\n",
       "<path fill=\"none\" stroke=\"#000000\" d=\"M364.2676,-124.3422C381.9867,-108.5846 401.2309,-91.4707 418.0658,-76.4994\"/>\n",
       "<polygon fill=\"#000000\" stroke=\"#000000\" points=\"420.4704,-79.0449 425.6171,-69.7841 415.8186,-73.8141 420.4704,-79.0449\"/>\n",
       "<text text-anchor=\"middle\" x=\"408.2792\" y=\"-91.5107\" font-family=\"Times,serif\" font-size=\"14.00\" fill=\"#000000\">&gt;</text>\n",
       "</g>\n",
       "</g>\n",
       "</svg>\n"
      ],
      "text/plain": [
       "<graphviz.dot.Digraph at 0x1a22067ba8>"
      ]
     },
     "execution_count": 7,
     "metadata": {},
     "output_type": "execute_result"
    }
   ],
   "source": [
    "lightgbm.create_tree_digraph(mutilclassova_model, tree_index=1 ,  show_info=[\"split_gain\", \"internal_value\", \"internal_count\", \"leaf_count\"])"
   ]
  },
  {
   "cell_type": "code",
   "execution_count": null,
   "metadata": {},
   "outputs": [],
   "source": []
  },
  {
   "cell_type": "markdown",
   "metadata": {},
   "source": [
    "## 3. objective=\"binary\""
   ]
  },
  {
   "cell_type": "code",
   "execution_count": 8,
   "metadata": {},
   "outputs": [
    {
     "data": {
      "text/plain": [
       "Counter({0: 613, 1: 268})"
      ]
     },
     "execution_count": 8,
     "metadata": {},
     "output_type": "execute_result"
    }
   ],
   "source": [
    "## keep the class 1 the same, merge class 0 and 2 to class \"Not 1\" (i.e., class 0)\n",
    "y[y == 2]= 0\n",
    "Counter(y)"
   ]
  },
  {
   "cell_type": "code",
   "execution_count": 9,
   "metadata": {},
   "outputs": [
    {
     "data": {
      "text/plain": [
       "LGBMClassifier(boosting_type='gbdt', class_weight=None, colsample_bytree=1.0,\n",
       "        importance_type='split', learning_rate=1, max_depth=1,\n",
       "        metric='error', min_child_samples=1, min_child_weight=0,\n",
       "        min_split_gain=0.0, n_estimators=1, n_jobs=-1, num_leaves=31,\n",
       "        objective='binary', random_state=1, reg_alpha=0.0, reg_lambda=0.0,\n",
       "        silent=True, subsample=1.0, subsample_for_bin=200000,\n",
       "        subsample_freq=0)"
      ]
     },
     "execution_count": 9,
     "metadata": {},
     "output_type": "execute_result"
    }
   ],
   "source": [
    "binary_model = lightgbm.LGBMClassifier(boosting_type='gbdt', class_weight=None, colsample_bytree=1.0,\n",
    "        importance_type='split', learning_rate=1, max_depth=max_depth_tree,\n",
    "        min_child_samples=1, min_child_weight=0, min_split_gain=0.0,\n",
    "        n_estimators=num_trees, n_jobs=-1, num_leaves=31, metric= \"error\", objective=\"binary\",\n",
    "        random_state=1, reg_alpha=0.0, reg_lambda=0.0, silent=True,\n",
    "        subsample=1.0, subsample_for_bin=200000, subsample_freq=0)\n",
    "\n",
    "binary_model.fit(X, y, verbose=1, eval_set=  [(X, y)], eval_names= ['train'])"
   ]
  },
  {
   "cell_type": "code",
   "execution_count": 10,
   "metadata": {},
   "outputs": [
    {
     "data": {
      "image/svg+xml": [
       "<?xml version=\"1.0\" encoding=\"UTF-8\" standalone=\"no\"?>\n",
       "<!DOCTYPE svg PUBLIC \"-//W3C//DTD SVG 1.1//EN\"\n",
       " \"http://www.w3.org/Graphics/SVG/1.1/DTD/svg11.dtd\">\n",
       "<!-- Generated by graphviz version 2.40.1 (20161225.0304)\n",
       " -->\n",
       "<!-- Title: %3 Pages: 1 -->\n",
       "<svg width=\"620pt\" height=\"239pt\"\n",
       " viewBox=\"0.00 0.00 620.01 239.02\" xmlns=\"http://www.w3.org/2000/svg\" xmlns:xlink=\"http://www.w3.org/1999/xlink\">\n",
       "<g id=\"graph0\" class=\"graph\" transform=\"scale(1 1) rotate(0) translate(4 235.0193)\">\n",
       "<title>%3</title>\n",
       "<polygon fill=\"#ffffff\" stroke=\"transparent\" points=\"-4,4 -4,-235.0193 616.0097,-235.0193 616.0097,4 -4,4\"/>\n",
       "<!-- split0 -->\n",
       "<g id=\"node1\" class=\"node\">\n",
       "<title>split0</title>\n",
       "<ellipse fill=\"none\" stroke=\"#000000\" cx=\"306.3314\" cy=\"-175.865\" rx=\"157.6846\" ry=\"55.3091\"/>\n",
       "<text text-anchor=\"middle\" x=\"306.3314\" y=\"-199.665\" font-family=\"Times,serif\" font-size=\"14.00\" fill=\"#000000\">split_feature_name: Title_2</text>\n",
       "<text text-anchor=\"middle\" x=\"306.3314\" y=\"-185.665\" font-family=\"Times,serif\" font-size=\"14.00\" fill=\"#000000\">threshold: 1.0000000180025095e&#45;35</text>\n",
       "<text text-anchor=\"middle\" x=\"306.3314\" y=\"-171.665\" font-family=\"Times,serif\" font-size=\"14.00\" fill=\"#000000\">split_gain: 186.8350067138672</text>\n",
       "<text text-anchor=\"middle\" x=\"306.3314\" y=\"-157.665\" font-family=\"Times,serif\" font-size=\"14.00\" fill=\"#000000\">internal_value: 0</text>\n",
       "<text text-anchor=\"middle\" x=\"306.3314\" y=\"-143.665\" font-family=\"Times,serif\" font-size=\"14.00\" fill=\"#000000\">internal_count: 881</text>\n",
       "</g>\n",
       "<!-- leaf0 -->\n",
       "<g id=\"node2\" class=\"node\">\n",
       "<title>leaf0</title>\n",
       "<ellipse fill=\"none\" stroke=\"#000000\" cx=\"149.3314\" cy=\"-35.3553\" rx=\"149.163\" ry=\"35.2113\"/>\n",
       "<text text-anchor=\"middle\" x=\"149.3314\" y=\"-45.1553\" font-family=\"Times,serif\" font-size=\"14.00\" fill=\"#000000\">leaf_index: 0</text>\n",
       "<text text-anchor=\"middle\" x=\"149.3314\" y=\"-31.1553\" font-family=\"Times,serif\" font-size=\"14.00\" fill=\"#000000\">leaf_value: 0.35444839773743786</text>\n",
       "<text text-anchor=\"middle\" x=\"149.3314\" y=\"-17.1553\" font-family=\"Times,serif\" font-size=\"14.00\" fill=\"#000000\">leaf_count: 368</text>\n",
       "</g>\n",
       "<!-- split0&#45;&gt;leaf0 -->\n",
       "<g id=\"edge1\" class=\"edge\">\n",
       "<title>split0&#45;&gt;leaf0</title>\n",
       "<path fill=\"none\" stroke=\"#000000\" d=\"M248.7619,-124.3422C231.155,-108.5846 212.0325,-91.4707 195.3042,-76.4994\"/>\n",
       "<polygon fill=\"#000000\" stroke=\"#000000\" points=\"197.5865,-73.845 187.8007,-69.7841 192.9182,-79.0611 197.5865,-73.845\"/>\n",
       "<text text-anchor=\"middle\" x=\"231.2269\" y=\"-91.5107\" font-family=\"Times,serif\" font-size=\"14.00\" fill=\"#000000\">&lt;=</text>\n",
       "</g>\n",
       "<!-- leaf1 -->\n",
       "<g id=\"node3\" class=\"node\">\n",
       "<title>leaf1</title>\n",
       "<ellipse fill=\"none\" stroke=\"#000000\" cx=\"464.3314\" cy=\"-35.3553\" rx=\"147.8568\" ry=\"35.2113\"/>\n",
       "<text text-anchor=\"middle\" x=\"464.3314\" y=\"-45.1553\" font-family=\"Times,serif\" font-size=\"14.00\" fill=\"#000000\">leaf_index: 1</text>\n",
       "<text text-anchor=\"middle\" x=\"464.3314\" y=\"-31.1553\" font-family=\"Times,serif\" font-size=\"14.00\" fill=\"#000000\">leaf_value: &#45;1.6751598466799749</text>\n",
       "<text text-anchor=\"middle\" x=\"464.3314\" y=\"-17.1553\" font-family=\"Times,serif\" font-size=\"14.00\" fill=\"#000000\">leaf_count: 513</text>\n",
       "</g>\n",
       "<!-- split0&#45;&gt;leaf1 -->\n",
       "<g id=\"edge2\" class=\"edge\">\n",
       "<title>split0&#45;&gt;leaf1</title>\n",
       "<path fill=\"none\" stroke=\"#000000\" d=\"M364.2676,-124.3422C381.9867,-108.5846 401.2309,-91.4707 418.0658,-76.4994\"/>\n",
       "<polygon fill=\"#000000\" stroke=\"#000000\" points=\"420.4704,-79.0449 425.6171,-69.7841 415.8186,-73.8141 420.4704,-79.0449\"/>\n",
       "<text text-anchor=\"middle\" x=\"408.2792\" y=\"-91.5107\" font-family=\"Times,serif\" font-size=\"14.00\" fill=\"#000000\">&gt;</text>\n",
       "</g>\n",
       "</g>\n",
       "</svg>\n"
      ],
      "text/plain": [
       "<graphviz.dot.Digraph at 0x1a22072d30>"
      ]
     },
     "execution_count": 10,
     "metadata": {},
     "output_type": "execute_result"
    }
   ],
   "source": [
    "lightgbm.create_tree_digraph(binary_model, tree_index=0,  show_info=[\"split_gain\", \"internal_value\", \"internal_count\", \"leaf_count\"])\n"
   ]
  },
  {
   "cell_type": "markdown",
   "metadata": {},
   "source": [
    "# Question"
   ]
  },
  {
   "cell_type": "markdown",
   "metadata": {},
   "source": [
    "Consider the first tree for class 1, I see that:\n",
    "\n",
    "**binary_model** returns the same tree compared to **mutilclassova_model** as I expected. However, the **mutilclass_model** returns different tree (different raw scores). \n",
    "\n",
    "So, I can understand how **mutilclassova_model** works. In terms of **mutilclass_model**, I know it uses *softmax* instead of *sigmoid* function but if it's ONLY the difference, the 2 trees should still to be the same, not different like that. I really don't know how **mutilclass_model** works ?\n",
    "\n",
    "Can you help me out with this.\n",
    "\n",
    "Thanks."
   ]
  },
  {
   "cell_type": "code",
   "execution_count": null,
   "metadata": {},
   "outputs": [],
   "source": []
  }
 ],
 "metadata": {
  "hide_input": false,
  "kernelspec": {
   "display_name": "python3.6",
   "language": "python",
   "name": "python3.6"
  },
  "language_info": {
   "codemirror_mode": {
    "name": "ipython",
    "version": 3
   },
   "file_extension": ".py",
   "mimetype": "text/x-python",
   "name": "python",
   "nbconvert_exporter": "python",
   "pygments_lexer": "ipython3",
   "version": "3.6.6"
  },
  "toc": {
   "base_numbering": 1,
   "nav_menu": {},
   "number_sections": true,
   "sideBar": true,
   "skip_h1_title": false,
   "title_cell": "Table of Contents",
   "title_sidebar": "Contents",
   "toc_cell": false,
   "toc_position": {
    "height": "calc(100% - 180px)",
    "left": "10px",
    "top": "150px",
    "width": "307px"
   },
   "toc_section_display": true,
   "toc_window_display": false
  },
  "varInspector": {
   "cols": {
    "lenName": 16,
    "lenType": 16,
    "lenVar": 40
   },
   "kernels_config": {
    "python": {
     "delete_cmd_postfix": "",
     "delete_cmd_prefix": "del ",
     "library": "var_list.py",
     "varRefreshCmd": "print(var_dic_list())"
    },
    "r": {
     "delete_cmd_postfix": ") ",
     "delete_cmd_prefix": "rm(",
     "library": "var_list.r",
     "varRefreshCmd": "cat(var_dic_list()) "
    }
   },
   "types_to_exclude": [
    "module",
    "function",
    "builtin_function_or_method",
    "instance",
    "_Feature"
   ],
   "window_display": false
  }
 },
 "nbformat": 4,
 "nbformat_minor": 2
}
